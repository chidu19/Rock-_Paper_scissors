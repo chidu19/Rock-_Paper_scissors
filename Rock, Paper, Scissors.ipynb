{
 "cells": [
  {
   "cell_type": "code",
   "execution_count": 1,
   "id": "d67495e9",
   "metadata": {},
   "outputs": [],
   "source": [
    "from tkinter import *\n",
    "from random import choice"
   ]
  },
  {
   "cell_type": "code",
   "execution_count": 2,
   "id": "4c9a3347",
   "metadata": {},
   "outputs": [],
   "source": [
    "root = Tk()\n",
    "root.geometry('400x400')\n",
    "root.resizable(0,0)\n",
    "root.title('DataFlair-Rock,Paper,Scissors')\n",
    "root.config(bg ='seashell3')"
   ]
  },
  {
   "cell_type": "code",
   "execution_count": 3,
   "id": "6695d010",
   "metadata": {},
   "outputs": [],
   "source": [
    "Label(root, text = 'Rock, Paper ,Scissors' , font='arial 20 bold', bg = 'seashell2').pack()"
   ]
  },
  {
   "cell_type": "code",
   "execution_count": 4,
   "id": "ce7b3633",
   "metadata": {},
   "outputs": [],
   "source": [
    "user_take = StringVar()\n",
    "Label(root, text = 'choose any one: rock, paper ,scissors' , font='arial 15 bold', bg = 'seashell2').place(x = 20,y=70)\n",
    "Entry(root, font = 'arial 15', textvariable = user_take , bg = 'antiquewhite2').place(x=90 , y = 130)"
   ]
  },
  {
   "cell_type": "code",
   "execution_count": 5,
   "id": "e94b70e3",
   "metadata": {},
   "outputs": [],
   "source": [
    "comp_pick = choice([1,2,3])\n",
    "if comp_pick == 1:\n",
    "    comp_pick = 'rock'\n",
    "elif comp_pick ==2:\n",
    "    comp_pick = 'paper'\n",
    "elif comp_pick==3:\n",
    "    comp_pick = 'scissors'"
   ]
  },
  {
   "cell_type": "code",
   "execution_count": 6,
   "id": "1d528aeb",
   "metadata": {},
   "outputs": [],
   "source": [
    "Result = StringVar()\n",
    "\n",
    "def play():\n",
    "    user_pick = user_take.get()\n",
    "    if user_pick == comp_pick:\n",
    "        Result.set('tie,you both select same')\n",
    "    elif user_pick == 'rock' and comp_pick == 'paper':\n",
    "        Result.set('you loose,computer select paper')\n",
    "    elif user_pick == 'rock' and comp_pick == 'scissors':\n",
    "        Result.set('you win,computer select scissors')\n",
    "    elif user_pick == 'paper' and comp_pick == 'scissors':\n",
    "        Result.set('you loose,computer select scissors')\n",
    "    elif user_pick == 'paper' and comp_pick == 'rock':\n",
    "        Result.set('you win,computer select rock')\n",
    "    elif user_pick == 'scissors' and comp_pick == 'rock':\n",
    "        Result.set('you loose,computer select rock')\n",
    "    elif user_pick == 'scissors' and comp_pick == 'paper':\n",
    "        Result.set('you win ,computer select paper')\n",
    "    else:\n",
    "        Result.set('invalid: choose any one -- rock, paper, scissors')"
   ]
  },
  {
   "cell_type": "code",
   "execution_count": 7,
   "id": "8bdc2dc6",
   "metadata": {},
   "outputs": [],
   "source": [
    "def Reset():\n",
    "    Result.set(\"\") \n",
    "    user_take.set(\"\")"
   ]
  },
  {
   "cell_type": "code",
   "execution_count": 8,
   "id": "3437ef04",
   "metadata": {},
   "outputs": [],
   "source": [
    "def Exit():\n",
    "    root.destroy()"
   ]
  },
  {
   "cell_type": "code",
   "execution_count": 9,
   "id": "f20c2218",
   "metadata": {},
   "outputs": [],
   "source": [
    "Entry(root, font = 'arial 10 bold', textvariable = Result, bg ='antiquewhite2',width = 50,).place(x=25, y = 250)\n",
    "\n",
    "Button(root, font = 'arial 13 bold', text = 'PLAY'  ,padx =5,bg ='seashell4' ,command = play).place(x=150,y=190)\n",
    "\n",
    "Button(root, font = 'arial 13 bold', text = 'RESET'  ,padx =5,bg ='seashell4' ,command = Reset).place(x=70,y=310)\n",
    "\n",
    "Button(root, font = 'arial 13 bold', text = 'EXIT'  ,padx =5,bg ='seashell4' ,command = Exit).place(x=230,y=310)\n",
    "\n",
    "\n",
    "root.mainloop()"
   ]
  },
  {
   "cell_type": "code",
   "execution_count": null,
   "id": "f6768e11",
   "metadata": {},
   "outputs": [],
   "source": []
  },
  {
   "cell_type": "code",
   "execution_count": null,
   "id": "2406a2cc",
   "metadata": {},
   "outputs": [],
   "source": []
  }
 ],
 "metadata": {
  "kernelspec": {
   "display_name": "Python 3 (ipykernel)",
   "language": "python",
   "name": "python3"
  },
  "language_info": {
   "codemirror_mode": {
    "name": "ipython",
    "version": 3
   },
   "file_extension": ".py",
   "mimetype": "text/x-python",
   "name": "python",
   "nbconvert_exporter": "python",
   "pygments_lexer": "ipython3",
   "version": "3.9.7"
  }
 },
 "nbformat": 4,
 "nbformat_minor": 5
}
